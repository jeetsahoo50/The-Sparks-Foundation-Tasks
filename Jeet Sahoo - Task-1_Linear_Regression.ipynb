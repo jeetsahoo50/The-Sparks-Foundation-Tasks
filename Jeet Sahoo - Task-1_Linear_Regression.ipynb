{
 "cells": [
  {
   "cell_type": "markdown",
   "id": "22d4cfb7",
   "metadata": {},
   "source": [
    "# **Data Science and Business Analytics (GRIP May'21)**\n",
    "## **Task 1 : Prediction using supervised ML**\n",
    "### **Author : Jeet Sahoo**\n",
    "#### Objective: Predict the percentage of students based on no. of study hours using Linear Regression and also predict the score if a student studies for 9.25 hours per day\n",
    "\n",
    "## **Linear Regression with Python Scikit Learn**\n",
    "In this task we will see how the Python Scikit-Learn(sklearn) library for machine learning can be used to implement regressions. We will start with simple linear regression involving two variables."
   ]
  },
  {
   "cell_type": "markdown",
   "id": "635060de",
   "metadata": {},
   "source": [
    "#### Importing Required Libraries"
   ]
  },
  {
   "cell_type": "code",
   "execution_count": null,
   "id": "3dfb2a0f",
   "metadata": {},
   "outputs": [],
   "source": [
    "# Importing the required libraries\n",
    "from sklearn.model_selection import train_test_split\n",
    "from sklearn.linear_model import LinearRegression\n",
    "from sklearn.metrics import mean_absolute_error\n",
    "from sklearn.metrics import mean_squared_error\n",
    "from sklearn.metrics import r2_score\n",
    "from sklearn import metrics\n",
    "import numpy as np\n",
    "import pandas as pd\n",
    "import matplotlib.pyplot as plt\n",
    "import seaborn as sns\n",
    "%matplotlib inline"
   ]
  },
  {
   "cell_type": "markdown",
   "id": "1cce0d91",
   "metadata": {},
   "source": [
    "#### Exploring and Understanding Data"
   ]
  },
  {
   "cell_type": "code",
   "execution_count": null,
   "id": "32a5a1c4",
   "metadata": {},
   "outputs": [],
   "source": [
    "# Reading data from remote link\n",
    "url = r\"http://bit.ly/w-data\"\n",
    "sample_data = pd.read_csv(url)\n",
    "print(\"Data import successful\")\n",
    "\n",
    "sample_data.head(20) #To see first 20 rows of data"
   ]
  },
  {
   "cell_type": "code",
   "execution_count": null,
   "id": "6a4b342c",
   "metadata": {},
   "outputs": [],
   "source": [
    "# Understanding the data\n",
    "sample_data.describe() #Data Description\n",
    "sample_data.info() #Info of Dataset\n",
    "sample_data.shape #To find the shape of data\n",
    "sample_data.corr()\n",
    "sample_data.isnull().sum()"
   ]
  },
  {
   "cell_type": "raw",
   "id": "02cc7a06",
   "metadata": {},
   "source": [
    "We have 25 rows and two columns. The First Column is Hours (Independent Variable) and Score (Depending Variable)."
   ]
  },
  {
   "cell_type": "raw",
   "id": "a3e5ef15",
   "metadata": {},
   "source": [
    "We can clearly see that there is a positive linear relation between the number of hours studied and percentage of score."
   ]
  },
  {
   "cell_type": "raw",
   "id": "593f370e",
   "metadata": {},
   "source": [
    "There are no null values in data, data cleaning is done successfully."
   ]
  },
  {
   "cell_type": "markdown",
   "id": "62fe2ae7",
   "metadata": {},
   "source": [
    "#### Visualizing Data"
   ]
  },
  {
   "cell_type": "code",
   "execution_count": null,
   "id": "a4e8c70b",
   "metadata": {},
   "outputs": [],
   "source": [
    "# Plotting the distribution of scores\n",
    "font1 = {'family':'Calibri','color':'blue','size':20}\n",
    "font2 = {'family':'serif','color':'darkred','size':15}\n",
    "sample_data.plot(x='Hours', y='Scores', style='o')  \n",
    "plt.title('Hours vs Percentage')  \n",
    "plt.xlabel('Hours Studied')  \n",
    "plt.ylabel('Percentage Score')  \n",
    "plt.show()"
   ]
  },
  {
   "cell_type": "raw",
   "id": "dcb4b794",
   "metadata": {},
   "source": [
    "From the graph we can safely assume a positive linear relation between the number of hours studied and percentage of score. "
   ]
  },
  {
   "cell_type": "markdown",
   "id": "59ddf2a1",
   "metadata": {},
   "source": [
    "#### PreProcessing Data"
   ]
  },
  {
   "cell_type": "raw",
   "id": "5497aa5f",
   "metadata": {},
   "source": [
    "Division of data into \"attributes\" (inputs) and \"labels\" (outputs)."
   ]
  },
  {
   "cell_type": "code",
   "execution_count": null,
   "id": "bd4049fa",
   "metadata": {},
   "outputs": [],
   "source": [
    "x = sample_data.iloc[:, :-1].values  \n",
    "y = sample_data.iloc[:, 1].values "
   ]
  },
  {
   "cell_type": "markdown",
   "id": "7877c3cf",
   "metadata": {},
   "source": [
    "#### Splitting Data and Training Algorithm"
   ]
  },
  {
   "cell_type": "raw",
   "id": "8bf701c6",
   "metadata": {},
   "source": [
    "We have already splitted our data into attributes(input variable) and labels(output variable) as x and y . We will now split the data into training and testing sets."
   ]
  },
  {
   "cell_type": "code",
   "execution_count": null,
   "id": "24c15a70",
   "metadata": {},
   "outputs": [],
   "source": [
    "x_train, x_test, y_train, y_test = train_test_split(x, y, test_size=0.2, random_state=0)\n",
    "print('Splitting complete.')\n",
    "\n",
    "regressor = LinearRegression()  \n",
    "regressor.fit(x_train.reshape(-1,1), y_train) \n",
    "print(\"Training complete.\")"
   ]
  },
  {
   "cell_type": "markdown",
   "id": "7418a2ad",
   "metadata": {},
   "source": [
    "#### Visualizing the best fit Line of Regression"
   ]
  },
  {
   "cell_type": "code",
   "execution_count": null,
   "id": "b29b0042",
   "metadata": {},
   "outputs": [],
   "source": [
    "# Plotting the regression line\n",
    "print('Intercept value is:',regressor.intercept_)\n",
    "print('Linear coefficient is:',regressor.coef_)\n",
    "line = regressor.coef_*x+regressor.intercept_\n",
    "\n",
    "# Plotting for the test data\n",
    "plt.scatter(x, y)\n",
    "plt.title('Linear Regression vs trained model',fontdict=font1)\n",
    "plt.xlabel('Hours studied',fontdict=font2)\n",
    "plt.ylabel('Score obtained',fontdict=font2)\n",
    "plt.plot(x, line,color='red');\n",
    "plt.show()"
   ]
  },
  {
   "cell_type": "code",
   "execution_count": null,
   "id": "901ca5cf",
   "metadata": {},
   "outputs": [],
   "source": [
    "print(\"Training Score: \",regressor.score(x_train,y_train)*100)"
   ]
  },
  {
   "cell_type": "markdown",
   "id": "1c215623",
   "metadata": {},
   "source": [
    "#### Predicting Data"
   ]
  },
  {
   "cell_type": "raw",
   "id": "3f29acb0",
   "metadata": {},
   "source": [
    "Now that we have trained our algorithm with good score, it's time to make some predictions. For this we will use our test-set data."
   ]
  },
  {
   "cell_type": "code",
   "execution_count": null,
   "id": "f9ff62c8",
   "metadata": {},
   "outputs": [],
   "source": [
    "# Testing data\n",
    "print(x_test) # In Hours\n",
    "# Model Prediction \n",
    "y_pred = regressor.predict(x_test) # Predicting the scores\n",
    "print(y_pred)"
   ]
  },
  {
   "cell_type": "markdown",
   "id": "34d421cf",
   "metadata": {},
   "source": [
    "#### Comparison between actual result and predicted result"
   ]
  },
  {
   "cell_type": "code",
   "execution_count": null,
   "id": "17b732cb",
   "metadata": {},
   "outputs": [],
   "source": [
    "# Comparing Actual vs Predicted\n",
    "df = pd.DataFrame({'Actual': y_test, 'Predicted': y_pred, 'Difference/Error': y_test - y_pred})\n",
    "df"
   ]
  },
  {
   "cell_type": "code",
   "execution_count": null,
   "id": "cde70e89",
   "metadata": {},
   "outputs": [],
   "source": [
    "#Estimating training and test score\n",
    "print(\"Training Score:\",regressor.score(x_train,y_train))\n",
    "print(\"Test Score:\",regressor.score(x_test,y_test))"
   ]
  },
  {
   "cell_type": "code",
   "execution_count": null,
   "id": "7757d58a",
   "metadata": {},
   "outputs": [],
   "source": [
    "#Comparing the actual and predicted value through visualization\n",
    "sns.distplot(y_test,hist=False,color=\"purple\",label=\"actual\")\n",
    "sns.distplot(y_pred,hist=False,color=\"green\",label=\"Predicted\")"
   ]
  },
  {
   "cell_type": "markdown",
   "id": "94c43cbc",
   "metadata": {},
   "source": [
    "#### Application as per Requirements"
   ]
  },
  {
   "cell_type": "raw",
   "id": "88b82d8c",
   "metadata": {},
   "source": [
    "_What will be predicted score if a student studies for 9.25 hrs/ day?_"
   ]
  },
  {
   "cell_type": "code",
   "execution_count": null,
   "id": "32bdbcc7",
   "metadata": {},
   "outputs": [],
   "source": [
    "# Testing the model with our own data\n",
    "hours = 9.25\n",
    "test = np.array([hours])\n",
    "test = test.reshape(-1, 1)\n",
    "pred = regressor.predict(test)\n",
    "print(\"Score obtained by the student if he studies for 9.25 hours/day = {}\".format(pred[0]))"
   ]
  },
  {
   "cell_type": "raw",
   "id": "129c47a5",
   "metadata": {},
   "source": [
    "For a student studying 9.25Hrs a day , the model predicts his score as 93.6917."
   ]
  },
  {
   "cell_type": "markdown",
   "id": "8ef3b802",
   "metadata": {},
   "source": [
    "#### Evaluating the Data"
   ]
  },
  {
   "cell_type": "code",
   "execution_count": null,
   "id": "b66f5349",
   "metadata": {},
   "outputs": [],
   "source": [
    "print('Mean Absolute Error:',metrics.mean_absolute_error(y_test, y_pred)) # Mean_absolute_error\n",
    "print('Mean Squared Error:', metrics.mean_squared_error(y_test, y_pred)) # Mean_squared_error ( MSE Value)\n",
    "print('Root Mean Squared Error:', np.sqrt(metrics.mean_squared_error(y_test, y_pred))) # Mean_squared_error ( RMSE Value)\n",
    "print('R-2:', metrics.r2_score(y_test, y_pred)) #R2_Score\n",
    "print(\"Slope of regression line \",regressor.coef_)\n",
    "print(\"Y intercept of regression line\",regressor.intercept_)"
   ]
  },
  {
   "cell_type": "raw",
   "id": "6004c718",
   "metadata": {},
   "source": [
    "R-2 gives the score of model fit and in this case we have R-2 = 0.9454906892105355 which is actually a great score for this model."
   ]
  },
  {
   "cell_type": "markdown",
   "id": "82455c0c",
   "metadata": {},
   "source": [
    "### Conclusion\n",
    "\n",
    "I was successfully able to carry-out Prediction using Supervised ML task and was able to evaluate the model's performance on various parameters.\n",
    "\n",
    "#### Thank You"
   ]
  }
 ],
 "metadata": {
  "kernelspec": {
   "display_name": "Python 3",
   "language": "python",
   "name": "python3"
  },
  "language_info": {
   "codemirror_mode": {
    "name": "ipython",
    "version": 3
   },
   "file_extension": ".py",
   "mimetype": "text/x-python",
   "name": "python",
   "nbconvert_exporter": "python",
   "pygments_lexer": "ipython3",
   "version": "3.9.5"
  }
 },
 "nbformat": 4,
 "nbformat_minor": 5
}
