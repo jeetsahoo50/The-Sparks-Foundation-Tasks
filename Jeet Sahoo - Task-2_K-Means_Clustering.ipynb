{
 "cells": [
  {
   "cell_type": "markdown",
   "id": "22d4cfb7",
   "metadata": {},
   "source": [
    "# **Data Science and Business Analytics (GRIP May'21)**\n",
    "## **Task 2 : Prediction using Unsupervised Machine Learning**\n",
    "### **Author : Jeet Sahoo**\n",
    "#### Objective: From the given ‘Iris’ dataset, predict the optimum number of clusters and represent it visually\n",
    "\n",
    "## **Technical Stack : Scikit Learn, Numpy Array, Scipy, Pandas, Matplotlib**\n",
    "In this K-means clustering task I tried to predict the optimum number of clusters and represent it visually from the given ‘Iris’ dataset."
   ]
  },
  {
   "cell_type": "markdown",
   "id": "635060de",
   "metadata": {},
   "source": [
    "#### Importing Required Libraries"
   ]
  },
  {
   "cell_type": "code",
   "execution_count": null,
   "id": "3dfb2a0f",
   "metadata": {},
   "outputs": [],
   "source": [
    "# Importing the required libraries\n",
    "from sklearn import datasets\n",
    "import matplotlib.pyplot as plt # used for data visualization\n",
    "import pandas as pd # used for data analysis\n",
    "import numpy as np # used for mathematical operations\n",
    "import seaborn as sns # used for data visualization\n",
    "from sklearn.cluster import KMeans\n",
    "import matplotlib.patches as mpatches\n",
    "import sklearn.metrics as sm\n",
    "from mpl_toolkits.mplot3d import Axes3D\n",
    "from scipy.cluster.hierarchy import linkage,dendrogram\n",
    "from sklearn.cluster import DBSCAN \n",
    "from sklearn.decomposition import PCA "
   ]
  },
  {
   "cell_type": "markdown",
   "id": "1cce0d91",
   "metadata": {},
   "source": [
    "#### Exploring and Understanding Data"
   ]
  },
  {
   "cell_type": "code",
   "execution_count": null,
   "id": "32a5a1c4",
   "metadata": {},
   "outputs": [],
   "source": [
    "# Loading data from file\n",
    "link='Iris.csv'\n",
    "iris_df = pd.read_csv(link)\n",
    "print(\"Data load successful\")\n",
    "\n",
    "iris_df.head(20) #To see first 20 rows of data"
   ]
  },
  {
   "cell_type": "code",
   "execution_count": null,
   "id": "6a4b342c",
   "metadata": {},
   "outputs": [],
   "source": [
    "# Understanding the data\n",
    "iris_df.describe() #Data Description"
   ]
  },
  {
   "cell_type": "code",
   "execution_count": null,
   "id": "33e2cadf",
   "metadata": {},
   "outputs": [],
   "source": [
    "iris_df.info() #Info of Dataset"
   ]
  },
  {
   "cell_type": "code",
   "execution_count": null,
   "id": "a21de367",
   "metadata": {},
   "outputs": [],
   "source": [
    "iris_df.values #Values of Dataset"
   ]
  },
  {
   "cell_type": "code",
   "execution_count": null,
   "id": "0fe359cd",
   "metadata": {},
   "outputs": [],
   "source": [
    "iris_df.columns #Columns of Dataset"
   ]
  },
  {
   "cell_type": "code",
   "execution_count": null,
   "id": "fb666420",
   "metadata": {},
   "outputs": [],
   "source": [
    "iris_df.shape #To find the shape of data"
   ]
  },
  {
   "cell_type": "code",
   "execution_count": null,
   "id": "8449f19d",
   "metadata": {},
   "outputs": [],
   "source": [
    "iris_df.isnull().sum() #Checking for null values in Dataset"
   ]
  },
  {
   "cell_type": "code",
   "execution_count": null,
   "id": "5897dc08",
   "metadata": {},
   "outputs": [],
   "source": [
    "iris_df.duplicated().sum() #Checking for duplicate entries in Dataset"
   ]
  },
  {
   "cell_type": "raw",
   "id": "02cc7a06",
   "metadata": {},
   "source": [
    "We have 150 rows and 6 columns. The First Column is Hours (Independent Variable) and Score (Depending Variable)."
   ]
  },
  {
   "cell_type": "raw",
   "id": "593f370e",
   "metadata": {},
   "source": [
    "There are no null values in data, data cleaning is done successfully."
   ]
  },
  {
   "cell_type": "markdown",
   "id": "4a84b46c",
   "metadata": {},
   "source": [
    "#### PreProcessing Data"
   ]
  },
  {
   "cell_type": "code",
   "execution_count": null,
   "id": "efc15be2",
   "metadata": {},
   "outputs": [],
   "source": [
    "iris_df['Species'].unique() #Three types of species"
   ]
  },
  {
   "cell_type": "code",
   "execution_count": null,
   "id": "633d22fd",
   "metadata": {},
   "outputs": [],
   "source": [
    "iris_df['Species'].value_counts() #Counting total values for each unique species in dataset"
   ]
  },
  {
   "cell_type": "markdown",
   "id": "76807271",
   "metadata": {},
   "source": [
    "#### Visualizing Data"
   ]
  },
  {
   "cell_type": "code",
   "execution_count": null,
   "id": "395de7d3",
   "metadata": {},
   "outputs": [],
   "source": [
    "#Using Seaborn\n",
    "plt.rcParams['figure.dpi'] = 1000\n",
    "fig=plt.figure(figsize=(8,4))\n",
    "sns.set_style(\"whitegrid\")\n",
    "iris=sns.load_dataset('iris')\n",
    "ax=sns.stripplot(x='species',y='sepal_length',data=iris,size=7) #Creating stripplot to see relationship vsiually among variables\n",
    "\n",
    "plt.title('Iris Dataset',fontsize=16)\n",
    "plt.xlabel('Species',fontsize=16)\n",
    "plt.ylabel('Sepal Length',fontsize=16)\n",
    "plt.show()"
   ]
  },
  {
   "cell_type": "raw",
   "id": "f041dc3e",
   "metadata": {},
   "source": [
    "Shows 3 clusters with respect with sepal length."
   ]
  },
  {
   "cell_type": "code",
   "execution_count": null,
   "id": "d98368e4",
   "metadata": {},
   "outputs": [],
   "source": [
    "#Boxplot\n",
    "fig= plt.figure(figsize=(8,4))\n",
    "sns.boxplot(x='species',y='sepal_width',data=iris)\n",
    "plt.title('Iris Dataset', fontsize=16)\n",
    "plt.xlabel('Species',fontsize=16)\n",
    "plt.ylabel('Sepal_width',fontsize=16)\n",
    "plt.show()"
   ]
  },
  {
   "cell_type": "code",
   "execution_count": null,
   "id": "7299fce2",
   "metadata": {},
   "outputs": [],
   "source": [
    "#Plotting Boxplot \n",
    "\n",
    "fig=plt.figure(figsize=(8,4))\n",
    "sns.boxplot( x= 'species', y= 'petal_width', data = iris)\n",
    "plt.title('Iris Dataset',fontsize=16)\n",
    "plt.xlabel('Species',fontsize=16)\n",
    "plt.ylabel('Petal Width', fontsize =16)\n",
    "plt.show()"
   ]
  },
  {
   "cell_type": "code",
   "execution_count": null,
   "id": "7ffffad9",
   "metadata": {},
   "outputs": [],
   "source": [
    "#Plotting Boxplot \n",
    "plt.rcParams['figure.dpi'] = 300\n",
    "fig=plt.figure(figsize=(8,4))\n",
    "sns.boxplot( x= 'species', y= 'petal_length', data = iris)\n",
    "plt.title('Iris Dataset')\n",
    "plt.title('Iris Dataset',fontsize=16)\n",
    "plt.xlabel('Species',fontsize=16)\n",
    "plt.ylabel('Petal length', fontsize =16)\n",
    "plt.show()"
   ]
  },
  {
   "cell_type": "markdown",
   "id": "7877c3cf",
   "metadata": {},
   "source": [
    "#### Splitting Data and Training Algorithm"
   ]
  },
  {
   "cell_type": "raw",
   "id": "8bf701c6",
   "metadata": {},
   "source": [
    "Elbow method to find out the number of optimum clusters for the iris dataset. The elbow method runs K-means clustering on the dataset and computes an average score for each cluster. K-means clustering algorithm identifies k number of centroids and allocates every data point to the nearest cluster, while keeping the centroids small."
   ]
  },
  {
   "cell_type": "code",
   "execution_count": null,
   "id": "24c15a70",
   "metadata": {},
   "outputs": [],
   "source": [
    "x=iris_df.iloc[:,[0,1,2,3]].values # defining rows and columns to be taken in consideration\n",
    "wcss=[] # List for saving the values of Within-Cluster sum of squares\n",
    "for i in range(1,11): # running loop for 10 times\n",
    "    kmeans=KMeans(n_clusters=i,init=\"k-means++\",random_state=0)\n",
    "    kmeans.fit(x) #To train the model and create classifier\n",
    "    wcss.append(kmeans.inertia_) # To obtain the within cluster sum of square\n",
    "wcss"
   ]
  },
  {
   "cell_type": "markdown",
   "id": "62fe2ae7",
   "metadata": {},
   "source": [
    "#### Visualizing Data"
   ]
  },
  {
   "cell_type": "code",
   "execution_count": null,
   "id": "a4e8c70b",
   "metadata": {},
   "outputs": [],
   "source": [
    "plt.figure(figsize=(8,5))\n",
    "plt.plot(range(1,11),wcss,'ro-')\n",
    "plt.xlabel(\"Numbers of Clusters\")\n",
    "plt.ylabel(\"Within-Cluster sum of squares\")\n",
    "plt.title(\"Elbow Method\") # plotting the elbow graph\n",
    "plt.show()"
   ]
  },
  {
   "cell_type": "raw",
   "id": "dcb4b794",
   "metadata": {},
   "source": [
    "From the graph we can safely assume that the number of best fit clusters for the datatset is 3."
   ]
  },
  {
   "cell_type": "markdown",
   "id": "1c215623",
   "metadata": {},
   "source": [
    "#### Predicting Data"
   ]
  },
  {
   "cell_type": "code",
   "execution_count": null,
   "id": "f9ff62c8",
   "metadata": {},
   "outputs": [],
   "source": [
    "kmeans=KMeans(n_clusters=3,init='k-means++',random_state=0)\n",
    "y_kmeans=kmeans.fit_predict(x) # Here we are training, creating Classifier and predicting the Model\n",
    "y_kmeans"
   ]
  },
  {
   "cell_type": "raw",
   "id": "97c1a55c",
   "metadata": {},
   "source": [
    "Here, 0,1 and 2 are the labels of species that are setosa, versicolor and virginica"
   ]
  },
  {
   "cell_type": "code",
   "execution_count": null,
   "id": "a78dd9cb",
   "metadata": {},
   "outputs": [],
   "source": [
    "kmeans.cluster_centers_ # Centroids of the clusters formed"
   ]
  },
  {
   "cell_type": "markdown",
   "id": "7418a2ad",
   "metadata": {},
   "source": [
    "#### Visualizing the best fit Line of Regression"
   ]
  },
  {
   "cell_type": "code",
   "execution_count": null,
   "id": "b29b0042",
   "metadata": {},
   "outputs": [],
   "source": [
    "iris_df.head()\n",
    "y_kmeans  #values arranged in matrix\n",
    "x  #values arranged in matrix\n",
    "data = pd.DataFrame(x, columns=['SL','SW','PL','PW'])\n",
    "\n",
    "data['y_kmeans'] = y_kmeans\n",
    "data.head()\n",
    "\n",
    "plt.figure(figsize=(7,7))\n",
    "colors = np.array(['red', 'green', 'blue'])\n",
    "predictedY = np.choose(kmeans.labels_, [1, 0, 2]).astype(np.int64)\n",
    "plt.scatter(iris_df.iloc[y_kmeans==0,0],iris_df.iloc[y_kmeans==0,2],s=75,c='red',label='Iris-virginica')\n",
    "plt.scatter(iris_df.iloc[y_kmeans==1,0],iris_df.iloc[y_kmeans==1,2],s=75,c='blue',label='Iris-setosa')\n",
    "plt.scatter(iris_df.iloc[y_kmeans==2,0],iris_df.iloc[y_kmeans==2,2],s=75,c='green',label='Iris-versicolor')\n",
    "plt.scatter(kmeans.cluster_centers_[:,0],kmeans.cluster_centers_[:,2],s=100,c='black',label='Centroids') # Plotting the centroids of the clusters\n",
    "plt.legend()\n",
    "plt.xlabel('Sepal Length in cm')\n",
    "plt.ylabel('Petal Length in cm')\n",
    "plt.title('K-Means Clustering')"
   ]
  },
  {
   "cell_type": "raw",
   "id": "24d3950a",
   "metadata": {},
   "source": [
    "Here, we can see three clusters of iris dataset."
   ]
  },
  {
   "cell_type": "code",
   "execution_count": null,
   "id": "6179069d",
   "metadata": {},
   "outputs": [],
   "source": [
    "kmeans.cluster_centers_[:,0] #Co-orinates of x-axis"
   ]
  },
  {
   "cell_type": "code",
   "execution_count": null,
   "id": "d74bdbd0",
   "metadata": {},
   "outputs": [],
   "source": [
    "kmeans.cluster_centers_[:,1]  #Co-ordinates of y-axis"
   ]
  },
  {
   "cell_type": "raw",
   "id": "d3a1e641",
   "metadata": {},
   "source": [
    "We can see the Centre of these Clusters Centroid at middle of these clusters respectively"
   ]
  },
  {
   "cell_type": "markdown",
   "id": "82455c0c",
   "metadata": {},
   "source": [
    "### Conclusion\n",
    "\n",
    "I was able to successfully carry-out Prediction using Unsupervised Machine Learning task and was able to evaluate the model's clustering accuracy score.\n",
    "\n",
    "#### Thank You"
   ]
  }
 ],
 "metadata": {
  "kernelspec": {
   "display_name": "Python 3",
   "language": "python",
   "name": "python3"
  },
  "language_info": {
   "codemirror_mode": {
    "name": "ipython",
    "version": 3
   },
   "file_extension": ".py",
   "mimetype": "text/x-python",
   "name": "python",
   "nbconvert_exporter": "python",
   "pygments_lexer": "ipython3",
   "version": "3.9.5"
  }
 },
 "nbformat": 4,
 "nbformat_minor": 5
}
