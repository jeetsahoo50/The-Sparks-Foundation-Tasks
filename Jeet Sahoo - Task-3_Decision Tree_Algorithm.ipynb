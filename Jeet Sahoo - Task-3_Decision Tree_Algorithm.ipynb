{
 "cells": [
  {
   "cell_type": "markdown",
   "id": "22d4cfb7",
   "metadata": {},
   "source": [
    "# **Data Science and Business Analytics (GRIP May'21)**\n",
    "## **Task 3 : Prediction using Decision Tree Algorithm**\n",
    "### **Author : Jeet Sahoo**\n",
    "#### Objective: Create the Decision Tree classifier and visualize it graphically. \n",
    "\n",
    "\n",
    "## **Technical Stack : Scikit Learn, Numpy Array, Seaborn, Pandas, Matplotlib**"
   ]
  },
  {
   "cell_type": "markdown",
   "id": "635060de",
   "metadata": {},
   "source": [
    "#### Importing Required Libraries"
   ]
  },
  {
   "cell_type": "code",
   "execution_count": null,
   "id": "3dfb2a0f",
   "metadata": {},
   "outputs": [],
   "source": [
    "# Importing the required libraries\n",
    "import sklearn.metrics as sm\n",
    "import pandas as pd\n",
    "import numpy as np\n",
    "import seaborn as sns\n",
    "%matplotlib inline\n",
    "import matplotlib.pyplot as plt\n",
    "from sklearn.datasets import load_iris\n",
    "from sklearn import metrics\n",
    "from sklearn import tree\n",
    "from sklearn.tree import DecisionTreeRegressor\n",
    "from sklearn.metrics import confusion_matrix\n",
    "from sklearn.tree import DecisionTreeClassifier, export_graphviz\n",
    "from sklearn.model_selection import train_test_split\n",
    "from IPython.display import Image "
   ]
  },
  {
   "cell_type": "markdown",
   "id": "1cce0d91",
   "metadata": {},
   "source": [
    "#### Exploring and Understanding Data"
   ]
  },
  {
   "cell_type": "code",
   "execution_count": null,
   "id": "32a5a1c4",
   "metadata": {},
   "outputs": [],
   "source": [
    "# Loading data from file\n",
    "link='Iris.csv'\n",
    "iris_df = pd.read_csv(link)\n",
    "print(\"Data load successful\")\n",
    "\n",
    "iris_df.head(20) #To see first 20 rows of data"
   ]
  },
  {
   "cell_type": "code",
   "execution_count": null,
   "id": "6a4b342c",
   "metadata": {},
   "outputs": [],
   "source": [
    "# Understanding the data\n",
    "iris_df.describe() #Data Description"
   ]
  },
  {
   "cell_type": "code",
   "execution_count": null,
   "id": "33e2cadf",
   "metadata": {},
   "outputs": [],
   "source": [
    "iris_df.info() #Info of Dataset"
   ]
  },
  {
   "cell_type": "code",
   "execution_count": null,
   "id": "a21de367",
   "metadata": {},
   "outputs": [],
   "source": [
    "iris_df.values #Values of Dataset"
   ]
  },
  {
   "cell_type": "code",
   "execution_count": null,
   "id": "0fe359cd",
   "metadata": {},
   "outputs": [],
   "source": [
    "iris_df.columns #Columns of Dataset"
   ]
  },
  {
   "cell_type": "code",
   "execution_count": null,
   "id": "fb666420",
   "metadata": {},
   "outputs": [],
   "source": [
    "iris_df.shape #To find the shape of data"
   ]
  },
  {
   "cell_type": "code",
   "execution_count": null,
   "id": "8449f19d",
   "metadata": {},
   "outputs": [],
   "source": [
    "iris_df.isnull().sum() #Checking for null values in Dataset"
   ]
  },
  {
   "cell_type": "code",
   "execution_count": null,
   "id": "5897dc08",
   "metadata": {},
   "outputs": [],
   "source": [
    "iris_df.duplicated().sum() #Checking for duplicate entries in Dataset"
   ]
  },
  {
   "cell_type": "code",
   "execution_count": null,
   "id": "fc29d8dc",
   "metadata": {},
   "outputs": [],
   "source": [
    "iris_df.corr()"
   ]
  },
  {
   "cell_type": "raw",
   "id": "02cc7a06",
   "metadata": {},
   "source": [
    "We have 150 rows and 6 columns."
   ]
  },
  {
   "cell_type": "raw",
   "id": "593f370e",
   "metadata": {},
   "source": [
    "There are no null values in data, data cleaning is done successfully."
   ]
  },
  {
   "cell_type": "markdown",
   "id": "4a84b46c",
   "metadata": {},
   "source": [
    "#### Visualizing Data"
   ]
  },
  {
   "cell_type": "code",
   "execution_count": null,
   "id": "efc15be2",
   "metadata": {},
   "outputs": [],
   "source": [
    "sns.pairplot(iris_df)"
   ]
  },
  {
   "cell_type": "code",
   "execution_count": null,
   "id": "27fb41f8",
   "metadata": {},
   "outputs": [],
   "source": [
    "iris_df.hist(figsize=(15,15))"
   ]
  },
  {
   "cell_type": "code",
   "execution_count": null,
   "id": "b4a0f167",
   "metadata": {},
   "outputs": [],
   "source": [
    "sns.heatmap(iris_df.corr())"
   ]
  },
  {
   "cell_type": "code",
   "execution_count": null,
   "id": "633d22fd",
   "metadata": {},
   "outputs": [],
   "source": [
    "sns.pairplot(iris_df.dropna(),hue='Species')"
   ]
  },
  {
   "cell_type": "code",
   "execution_count": null,
   "id": "f569108f",
   "metadata": {},
   "outputs": [],
   "source": [
    "# Scatter plot of data based on Sepal Length and Width features\n",
    "sns.FacetGrid(iris_df,hue='Species').map(plt.scatter,'SepalLengthCm','SepalWidthCm').add_legend()\n",
    "plt.show()"
   ]
  },
  {
   "cell_type": "code",
   "execution_count": null,
   "id": "c6671e4e",
   "metadata": {},
   "outputs": [],
   "source": [
    "# Scatter plot of data based on Petal Length and Width features\n",
    "sns.FacetGrid(iris_df,hue='Species').map(plt.scatter,'PetalLengthCm','PetalWidthCm').add_legend()\n",
    "plt.show()"
   ]
  },
  {
   "cell_type": "markdown",
   "id": "76807271",
   "metadata": {},
   "source": [
    "#### Dataset Splitting"
   ]
  },
  {
   "cell_type": "code",
   "execution_count": null,
   "id": "395de7d3",
   "metadata": {},
   "outputs": [],
   "source": [
    "X=iris_df[['SepalLengthCm','SepalWidthCm','PetalLengthCm','PetalWidthCm']]\n",
    "Y=iris_df['Species']\n",
    "X_train,X_test,Y_train,Y_test=train_test_split(X,Y,test_size=0.3,random_state=0)\n",
    "print('Training split-',X_train.shape)\n",
    "print('Training split-',X_test.shape)"
   ]
  },
  {
   "cell_type": "markdown",
   "id": "7877c3cf",
   "metadata": {},
   "source": [
    "#### Fitting Model"
   ]
  },
  {
   "cell_type": "code",
   "execution_count": null,
   "id": "24c15a70",
   "metadata": {},
   "outputs": [],
   "source": [
    "# Model Training\n",
    "iris_df_model=DecisionTreeClassifier()"
   ]
  },
  {
   "cell_type": "code",
   "execution_count": null,
   "id": "f954b12b",
   "metadata": {},
   "outputs": [],
   "source": [
    "iris_df_model.fit(X_train,Y_train)\n",
    "print(\"Training Complete.\")"
   ]
  },
  {
   "cell_type": "code",
   "execution_count": null,
   "id": "70cc9e65",
   "metadata": {},
   "outputs": [],
   "source": [
    "Y_Pred=iris_df_model.predict(X_test)\n",
    "Y_Pred"
   ]
  },
  {
   "cell_type": "markdown",
   "id": "f9207d5f",
   "metadata": {},
   "source": [
    "#### Comparing Actual and Predicted Flower Classification"
   ]
  },
  {
   "cell_type": "code",
   "execution_count": null,
   "id": "737305ec",
   "metadata": {},
   "outputs": [],
   "source": [
    "df = pd.DataFrame({'Actual': Y_test, 'Predicted': Y_Pred}) \n",
    "df"
   ]
  },
  {
   "cell_type": "markdown",
   "id": "7418a2ad",
   "metadata": {},
   "source": [
    "#### Decision Tree Visualization"
   ]
  },
  {
   "cell_type": "code",
   "execution_count": null,
   "id": "b29b0042",
   "metadata": {},
   "outputs": [],
   "source": [
    "featName=['sepal length ( in cm)','sepal width (in cm)','petal length (in cm)','petal width (in cm)']\n",
    "clsName=['Iris-Setosa','Iris-Versicolor','Iris-virginica']\n",
    "\n",
    "fig, axes = plt.subplots(nrows = 1, ncols = 1, figsize = (10,6), dpi = 350)\n",
    "\n",
    "tree.plot_tree(iris_df_model, feature_names = featName, class_names = clsName, filled = True);"
   ]
  },
  {
   "cell_type": "markdown",
   "id": "62fe2ae7",
   "metadata": {},
   "source": [
    "#### Evaluating Model"
   ]
  },
  {
   "cell_type": "code",
   "execution_count": null,
   "id": "a4e8c70b",
   "metadata": {},
   "outputs": [],
   "source": [
    "# Model Accuracy\n",
    "evaluate_model=metrics.accuracy_score(Y_test,Y_Pred)\n",
    "print('ACCURACY:',evaluate_model)"
   ]
  },
  {
   "cell_type": "raw",
   "id": "dcb4b794",
   "metadata": {},
   "source": [
    "The accuracy of this model is 0.977 or 97.7% ~ 100% since I have taken all the 4 features of the iris dataset for creating the decision tree model."
   ]
  },
  {
   "cell_type": "markdown",
   "id": "1c215623",
   "metadata": {},
   "source": [
    "#### Confusion Matrix"
   ]
  },
  {
   "cell_type": "code",
   "execution_count": null,
   "id": "f9ff62c8",
   "metadata": {},
   "outputs": [],
   "source": [
    "cm=confusion_matrix(Y_test,Y_Pred)\n",
    "cm"
   ]
  },
  {
   "cell_type": "code",
   "execution_count": null,
   "id": "a78dd9cb",
   "metadata": {},
   "outputs": [],
   "source": [
    "plt.figure(figsize=(18,18))\n",
    "tree.plot_tree(iris_df_model,filled=True,rounded=True,proportion=True,node_ids=True)\n",
    "plt.show()"
   ]
  },
  {
   "cell_type": "markdown",
   "id": "82455c0c",
   "metadata": {},
   "source": [
    "### Conclusion\n",
    "\n",
    "I was able to successfully carry-out prediction using Prediction using Decision Tree Algorithm and was able to evaluate the model's accuracy score.\n",
    "\n",
    "#### Thank You"
   ]
  }
 ],
 "metadata": {
  "kernelspec": {
   "display_name": "Python 3",
   "language": "python",
   "name": "python3"
  },
  "language_info": {
   "codemirror_mode": {
    "name": "ipython",
    "version": 3
   },
   "file_extension": ".py",
   "mimetype": "text/x-python",
   "name": "python",
   "nbconvert_exporter": "python",
   "pygments_lexer": "ipython3",
   "version": "3.9.5"
  }
 },
 "nbformat": 4,
 "nbformat_minor": 5
}
